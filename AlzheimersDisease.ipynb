{
 "cells": [
  {
   "cell_type": "markdown",
   "id": "537760d0-9d9e-4203-a36c-0e4364920061",
   "metadata": {},
   "source": [
    "<h2>Importing Libraries and Dataset</h2>"
   ]
  },
  {
   "cell_type": "code",
   "execution_count": 2,
   "id": "f5b23712-ce35-4670-b145-8214e3e91dc0",
   "metadata": {},
   "outputs": [],
   "source": [
    "import pandas as pd\n",
    "import numpy as np\n",
    "import matplotlib.pyplot as plt\n",
    "import seaborn as sns\n",
    "import pickle\n",
    "import os\n",
    "from sklearn.model_selection import train_test_split, GridSearchCV\n",
    "from sklearn.ensemble import RandomForestClassifier\n",
    "from sklearn.linear_model import LogisticRegression\n",
    "from sklearn.metrics import accuracy_score, classification_report, confusion_matrix"
   ]
  },
  {
   "cell_type": "code",
   "execution_count": 3,
   "id": "eab72cc9-e4d5-443f-8139-1f924ca5b427",
   "metadata": {},
   "outputs": [],
   "source": [
    "#Importing the data\n",
    "alzheimers_data = pd.read_csv(\"data/AlzheimersData.csv\")"
   ]
  },
  {
   "cell_type": "code",
   "execution_count": 4,
   "id": "7f89d01b-9347-4286-90ae-f441ccd862bf",
   "metadata": {},
   "outputs": [
    {
     "data": {
      "text/html": [
       "<div>\n",
       "<style scoped>\n",
       "    .dataframe tbody tr th:only-of-type {\n",
       "        vertical-align: middle;\n",
       "    }\n",
       "\n",
       "    .dataframe tbody tr th {\n",
       "        vertical-align: top;\n",
       "    }\n",
       "\n",
       "    .dataframe thead th {\n",
       "        text-align: right;\n",
       "    }\n",
       "</style>\n",
       "<table border=\"1\" class=\"dataframe\">\n",
       "  <thead>\n",
       "    <tr style=\"text-align: right;\">\n",
       "      <th></th>\n",
       "      <th>RowId</th>\n",
       "      <th>YearStart</th>\n",
       "      <th>YearEnd</th>\n",
       "      <th>LocationAbbr</th>\n",
       "      <th>LocationDesc</th>\n",
       "      <th>Datasource</th>\n",
       "      <th>Class</th>\n",
       "      <th>Topic</th>\n",
       "      <th>Question</th>\n",
       "      <th>Data_Value_Unit</th>\n",
       "      <th>...</th>\n",
       "      <th>Stratification2</th>\n",
       "      <th>Geolocation</th>\n",
       "      <th>ClassID</th>\n",
       "      <th>TopicID</th>\n",
       "      <th>QuestionID</th>\n",
       "      <th>LocationID</th>\n",
       "      <th>StratificationCategoryID1</th>\n",
       "      <th>StratificationID1</th>\n",
       "      <th>StratificationCategoryID2</th>\n",
       "      <th>StratificationID2</th>\n",
       "    </tr>\n",
       "  </thead>\n",
       "  <tbody>\n",
       "    <tr>\n",
       "      <th>0</th>\n",
       "      <td>BRFSS~2022~2022~42~Q03~TMC01~AGE~RACE</td>\n",
       "      <td>2022</td>\n",
       "      <td>2022</td>\n",
       "      <td>PA</td>\n",
       "      <td>Pennsylvania</td>\n",
       "      <td>BRFSS</td>\n",
       "      <td>Mental Health</td>\n",
       "      <td>Frequent mental distress</td>\n",
       "      <td>Percentage of older adults who are experiencin...</td>\n",
       "      <td>%</td>\n",
       "      <td>...</td>\n",
       "      <td>Native Am/Alaskan Native</td>\n",
       "      <td>POINT (-77.86070029 40.79373015)</td>\n",
       "      <td>C05</td>\n",
       "      <td>TMC01</td>\n",
       "      <td>Q03</td>\n",
       "      <td>42</td>\n",
       "      <td>AGE</td>\n",
       "      <td>5064</td>\n",
       "      <td>RACE</td>\n",
       "      <td>NAA</td>\n",
       "    </tr>\n",
       "    <tr>\n",
       "      <th>1</th>\n",
       "      <td>BRFSS~2022~2022~46~Q03~TMC01~AGE~RACE</td>\n",
       "      <td>2022</td>\n",
       "      <td>2022</td>\n",
       "      <td>SD</td>\n",
       "      <td>South Dakota</td>\n",
       "      <td>BRFSS</td>\n",
       "      <td>Mental Health</td>\n",
       "      <td>Frequent mental distress</td>\n",
       "      <td>Percentage of older adults who are experiencin...</td>\n",
       "      <td>%</td>\n",
       "      <td>...</td>\n",
       "      <td>Asian/Pacific Islander</td>\n",
       "      <td>POINT (-100.3735306 44.35313005)</td>\n",
       "      <td>C05</td>\n",
       "      <td>TMC01</td>\n",
       "      <td>Q03</td>\n",
       "      <td>46</td>\n",
       "      <td>AGE</td>\n",
       "      <td>65PLUS</td>\n",
       "      <td>RACE</td>\n",
       "      <td>ASN</td>\n",
       "    </tr>\n",
       "    <tr>\n",
       "      <th>2</th>\n",
       "      <td>BRFSS~2022~2022~16~Q03~TMC01~AGE~RACE</td>\n",
       "      <td>2022</td>\n",
       "      <td>2022</td>\n",
       "      <td>ID</td>\n",
       "      <td>Idaho</td>\n",
       "      <td>BRFSS</td>\n",
       "      <td>Mental Health</td>\n",
       "      <td>Frequent mental distress</td>\n",
       "      <td>Percentage of older adults who are experiencin...</td>\n",
       "      <td>%</td>\n",
       "      <td>...</td>\n",
       "      <td>Black, non-Hispanic</td>\n",
       "      <td>POINT (-114.36373 43.68263001)</td>\n",
       "      <td>C05</td>\n",
       "      <td>TMC01</td>\n",
       "      <td>Q03</td>\n",
       "      <td>16</td>\n",
       "      <td>AGE</td>\n",
       "      <td>65PLUS</td>\n",
       "      <td>RACE</td>\n",
       "      <td>BLK</td>\n",
       "    </tr>\n",
       "    <tr>\n",
       "      <th>3</th>\n",
       "      <td>BRFSS~2022~2022~24~Q03~TMC01~AGE~RACE</td>\n",
       "      <td>2022</td>\n",
       "      <td>2022</td>\n",
       "      <td>MD</td>\n",
       "      <td>Maryland</td>\n",
       "      <td>BRFSS</td>\n",
       "      <td>Mental Health</td>\n",
       "      <td>Frequent mental distress</td>\n",
       "      <td>Percentage of older adults who are experiencin...</td>\n",
       "      <td>%</td>\n",
       "      <td>...</td>\n",
       "      <td>Black, non-Hispanic</td>\n",
       "      <td>POINT (-76.60926011 39.29058096)</td>\n",
       "      <td>C05</td>\n",
       "      <td>TMC01</td>\n",
       "      <td>Q03</td>\n",
       "      <td>24</td>\n",
       "      <td>AGE</td>\n",
       "      <td>65PLUS</td>\n",
       "      <td>RACE</td>\n",
       "      <td>BLK</td>\n",
       "    </tr>\n",
       "    <tr>\n",
       "      <th>4</th>\n",
       "      <td>BRFSS~2022~2022~55~Q03~TMC01~AGE~GENDER</td>\n",
       "      <td>2022</td>\n",
       "      <td>2022</td>\n",
       "      <td>WI</td>\n",
       "      <td>Wisconsin</td>\n",
       "      <td>BRFSS</td>\n",
       "      <td>Mental Health</td>\n",
       "      <td>Frequent mental distress</td>\n",
       "      <td>Percentage of older adults who are experiencin...</td>\n",
       "      <td>%</td>\n",
       "      <td>...</td>\n",
       "      <td>Male</td>\n",
       "      <td>POINT (-89.81637074 44.39319117)</td>\n",
       "      <td>C05</td>\n",
       "      <td>TMC01</td>\n",
       "      <td>Q03</td>\n",
       "      <td>55</td>\n",
       "      <td>AGE</td>\n",
       "      <td>65PLUS</td>\n",
       "      <td>GENDER</td>\n",
       "      <td>MALE</td>\n",
       "    </tr>\n",
       "  </tbody>\n",
       "</table>\n",
       "<p>5 rows × 31 columns</p>\n",
       "</div>"
      ],
      "text/plain": [
       "                                     RowId  YearStart  YearEnd LocationAbbr  \\\n",
       "0    BRFSS~2022~2022~42~Q03~TMC01~AGE~RACE       2022     2022           PA   \n",
       "1    BRFSS~2022~2022~46~Q03~TMC01~AGE~RACE       2022     2022           SD   \n",
       "2    BRFSS~2022~2022~16~Q03~TMC01~AGE~RACE       2022     2022           ID   \n",
       "3    BRFSS~2022~2022~24~Q03~TMC01~AGE~RACE       2022     2022           MD   \n",
       "4  BRFSS~2022~2022~55~Q03~TMC01~AGE~GENDER       2022     2022           WI   \n",
       "\n",
       "   LocationDesc Datasource          Class                     Topic  \\\n",
       "0  Pennsylvania      BRFSS  Mental Health  Frequent mental distress   \n",
       "1  South Dakota      BRFSS  Mental Health  Frequent mental distress   \n",
       "2         Idaho      BRFSS  Mental Health  Frequent mental distress   \n",
       "3      Maryland      BRFSS  Mental Health  Frequent mental distress   \n",
       "4     Wisconsin      BRFSS  Mental Health  Frequent mental distress   \n",
       "\n",
       "                                            Question Data_Value_Unit  ...  \\\n",
       "0  Percentage of older adults who are experiencin...               %  ...   \n",
       "1  Percentage of older adults who are experiencin...               %  ...   \n",
       "2  Percentage of older adults who are experiencin...               %  ...   \n",
       "3  Percentage of older adults who are experiencin...               %  ...   \n",
       "4  Percentage of older adults who are experiencin...               %  ...   \n",
       "\n",
       "            Stratification2                       Geolocation  ClassID  \\\n",
       "0  Native Am/Alaskan Native  POINT (-77.86070029 40.79373015)      C05   \n",
       "1    Asian/Pacific Islander  POINT (-100.3735306 44.35313005)      C05   \n",
       "2       Black, non-Hispanic    POINT (-114.36373 43.68263001)      C05   \n",
       "3       Black, non-Hispanic  POINT (-76.60926011 39.29058096)      C05   \n",
       "4                      Male  POINT (-89.81637074 44.39319117)      C05   \n",
       "\n",
       "   TopicID QuestionID LocationID  StratificationCategoryID1  \\\n",
       "0    TMC01        Q03         42                        AGE   \n",
       "1    TMC01        Q03         46                        AGE   \n",
       "2    TMC01        Q03         16                        AGE   \n",
       "3    TMC01        Q03         24                        AGE   \n",
       "4    TMC01        Q03         55                        AGE   \n",
       "\n",
       "   StratificationID1 StratificationCategoryID2 StratificationID2  \n",
       "0               5064                      RACE               NAA  \n",
       "1             65PLUS                      RACE               ASN  \n",
       "2             65PLUS                      RACE               BLK  \n",
       "3             65PLUS                      RACE               BLK  \n",
       "4             65PLUS                    GENDER              MALE  \n",
       "\n",
       "[5 rows x 31 columns]"
      ]
     },
     "execution_count": 4,
     "metadata": {},
     "output_type": "execute_result"
    }
   ],
   "source": [
    "#Checking the dataset\n",
    "alzheimers_data.head()"
   ]
  },
  {
   "cell_type": "markdown",
   "id": "64f68bf4-bd47-496d-b35b-78e7e606255c",
   "metadata": {},
   "source": [
    "<h2>Data Cleaning</h2>"
   ]
  },
  {
   "cell_type": "code",
   "execution_count": 6,
   "id": "75c1ce19-e5e9-4b08-afa9-fbde8dbf41c2",
   "metadata": {},
   "outputs": [
    {
     "name": "stdout",
     "output_type": "stream",
     "text": [
      "Dropped irrelevant columns.\n"
     ]
    }
   ],
   "source": [
    "columns_to_drop = [\n",
    "    'RowId', 'Datasource', 'Data_Value_Unit', \n",
    "    'Data_Value_Footnote_Symbol', 'Data_Value_Footnote', \n",
    "    'Geolocation'\n",
    "]\n",
    "alzheimers_data_cleaned = alzheimers_data.drop(columns=columns_to_drop, errors='ignore')\n",
    "\n",
    "print(\"Dropped irrelevant columns.\")"
   ]
  },
  {
   "cell_type": "code",
   "execution_count": 7,
   "id": "dd04aebc-c3ed-470c-9bb1-d12bd4ce07e4",
   "metadata": {},
   "outputs": [
    {
     "name": "stdout",
     "output_type": "stream",
     "text": [
      "Dropped 91334 rows with missing Data_Value.\n"
     ]
    }
   ],
   "source": [
    "# Handle missing values\n",
    "initial_shape = alzheimers_data_cleaned.shape\n",
    "alzheimers_data_cleaned = alzheimers_data_cleaned.dropna(subset=['Data_Value'])\n",
    "final_shape = alzheimers_data_cleaned.shape\n",
    "print(f\"Dropped {initial_shape[0] - final_shape[0]} rows with missing Data_Value.\")"
   ]
  },
  {
   "cell_type": "code",
   "execution_count": 8,
   "id": "bd6c7453-0a10-4b15-9014-8634de816304",
   "metadata": {},
   "outputs": [
    {
     "data": {
      "text/html": [
       "<div>\n",
       "<style scoped>\n",
       "    .dataframe tbody tr th:only-of-type {\n",
       "        vertical-align: middle;\n",
       "    }\n",
       "\n",
       "    .dataframe tbody tr th {\n",
       "        vertical-align: top;\n",
       "    }\n",
       "\n",
       "    .dataframe thead th {\n",
       "        text-align: right;\n",
       "    }\n",
       "</style>\n",
       "<table border=\"1\" class=\"dataframe\">\n",
       "  <thead>\n",
       "    <tr style=\"text-align: right;\">\n",
       "      <th></th>\n",
       "      <th>YearStart</th>\n",
       "      <th>YearEnd</th>\n",
       "      <th>LocationAbbr</th>\n",
       "      <th>LocationDesc</th>\n",
       "      <th>Class</th>\n",
       "      <th>Topic</th>\n",
       "      <th>Question</th>\n",
       "      <th>DataValueTypeID</th>\n",
       "      <th>Data_Value_Type</th>\n",
       "      <th>Data_Value</th>\n",
       "      <th>...</th>\n",
       "      <th>StratificationCategory2</th>\n",
       "      <th>Stratification2</th>\n",
       "      <th>ClassID</th>\n",
       "      <th>TopicID</th>\n",
       "      <th>QuestionID</th>\n",
       "      <th>LocationID</th>\n",
       "      <th>StratificationCategoryID1</th>\n",
       "      <th>StratificationID1</th>\n",
       "      <th>StratificationCategoryID2</th>\n",
       "      <th>StratificationID2</th>\n",
       "    </tr>\n",
       "  </thead>\n",
       "  <tbody>\n",
       "    <tr>\n",
       "      <th>3</th>\n",
       "      <td>2022</td>\n",
       "      <td>2022</td>\n",
       "      <td>MD</td>\n",
       "      <td>Maryland</td>\n",
       "      <td>Mental Health</td>\n",
       "      <td>Frequent mental distress</td>\n",
       "      <td>Percentage of older adults who are experiencin...</td>\n",
       "      <td>PRCTG</td>\n",
       "      <td>Percentage</td>\n",
       "      <td>9.0</td>\n",
       "      <td>...</td>\n",
       "      <td>Race/Ethnicity</td>\n",
       "      <td>Black, non-Hispanic</td>\n",
       "      <td>C05</td>\n",
       "      <td>TMC01</td>\n",
       "      <td>Q03</td>\n",
       "      <td>24</td>\n",
       "      <td>AGE</td>\n",
       "      <td>65PLUS</td>\n",
       "      <td>RACE</td>\n",
       "      <td>BLK</td>\n",
       "    </tr>\n",
       "    <tr>\n",
       "      <th>4</th>\n",
       "      <td>2022</td>\n",
       "      <td>2022</td>\n",
       "      <td>WI</td>\n",
       "      <td>Wisconsin</td>\n",
       "      <td>Mental Health</td>\n",
       "      <td>Frequent mental distress</td>\n",
       "      <td>Percentage of older adults who are experiencin...</td>\n",
       "      <td>PRCTG</td>\n",
       "      <td>Percentage</td>\n",
       "      <td>5.6</td>\n",
       "      <td>...</td>\n",
       "      <td>Gender</td>\n",
       "      <td>Male</td>\n",
       "      <td>C05</td>\n",
       "      <td>TMC01</td>\n",
       "      <td>Q03</td>\n",
       "      <td>55</td>\n",
       "      <td>AGE</td>\n",
       "      <td>65PLUS</td>\n",
       "      <td>GENDER</td>\n",
       "      <td>MALE</td>\n",
       "    </tr>\n",
       "    <tr>\n",
       "      <th>6</th>\n",
       "      <td>2022</td>\n",
       "      <td>2022</td>\n",
       "      <td>OK</td>\n",
       "      <td>Oklahoma</td>\n",
       "      <td>Mental Health</td>\n",
       "      <td>Frequent mental distress</td>\n",
       "      <td>Percentage of older adults who are experiencin...</td>\n",
       "      <td>PRCTG</td>\n",
       "      <td>Percentage</td>\n",
       "      <td>21.5</td>\n",
       "      <td>...</td>\n",
       "      <td>Race/Ethnicity</td>\n",
       "      <td>Native Am/Alaskan Native</td>\n",
       "      <td>C05</td>\n",
       "      <td>TMC01</td>\n",
       "      <td>Q03</td>\n",
       "      <td>40</td>\n",
       "      <td>AGE</td>\n",
       "      <td>AGE_OVERALL</td>\n",
       "      <td>RACE</td>\n",
       "      <td>NAA</td>\n",
       "    </tr>\n",
       "    <tr>\n",
       "      <th>7</th>\n",
       "      <td>2022</td>\n",
       "      <td>2022</td>\n",
       "      <td>PA</td>\n",
       "      <td>Pennsylvania</td>\n",
       "      <td>Mental Health</td>\n",
       "      <td>Frequent mental distress</td>\n",
       "      <td>Percentage of older adults who are experiencin...</td>\n",
       "      <td>PRCTG</td>\n",
       "      <td>Percentage</td>\n",
       "      <td>10.0</td>\n",
       "      <td>...</td>\n",
       "      <td>Race/Ethnicity</td>\n",
       "      <td>White, non-Hispanic</td>\n",
       "      <td>C05</td>\n",
       "      <td>TMC01</td>\n",
       "      <td>Q03</td>\n",
       "      <td>42</td>\n",
       "      <td>AGE</td>\n",
       "      <td>AGE_OVERALL</td>\n",
       "      <td>RACE</td>\n",
       "      <td>WHT</td>\n",
       "    </tr>\n",
       "    <tr>\n",
       "      <th>8</th>\n",
       "      <td>2022</td>\n",
       "      <td>2022</td>\n",
       "      <td>PA</td>\n",
       "      <td>Pennsylvania</td>\n",
       "      <td>Overall Health</td>\n",
       "      <td>Disability status, including sensory or mobili...</td>\n",
       "      <td>Percentage of older adults who report having a...</td>\n",
       "      <td>PRCTG</td>\n",
       "      <td>Percentage</td>\n",
       "      <td>39.9</td>\n",
       "      <td>...</td>\n",
       "      <td>Gender</td>\n",
       "      <td>Female</td>\n",
       "      <td>C01</td>\n",
       "      <td>TOC10</td>\n",
       "      <td>Q46</td>\n",
       "      <td>42</td>\n",
       "      <td>AGE</td>\n",
       "      <td>AGE_OVERALL</td>\n",
       "      <td>GENDER</td>\n",
       "      <td>FEMALE</td>\n",
       "    </tr>\n",
       "  </tbody>\n",
       "</table>\n",
       "<p>5 rows × 25 columns</p>\n",
       "</div>"
      ],
      "text/plain": [
       "   YearStart  YearEnd LocationAbbr  LocationDesc           Class  \\\n",
       "3       2022     2022           MD      Maryland   Mental Health   \n",
       "4       2022     2022           WI     Wisconsin   Mental Health   \n",
       "6       2022     2022           OK      Oklahoma   Mental Health   \n",
       "7       2022     2022           PA  Pennsylvania   Mental Health   \n",
       "8       2022     2022           PA  Pennsylvania  Overall Health   \n",
       "\n",
       "                                               Topic  \\\n",
       "3                           Frequent mental distress   \n",
       "4                           Frequent mental distress   \n",
       "6                           Frequent mental distress   \n",
       "7                           Frequent mental distress   \n",
       "8  Disability status, including sensory or mobili...   \n",
       "\n",
       "                                            Question DataValueTypeID  \\\n",
       "3  Percentage of older adults who are experiencin...           PRCTG   \n",
       "4  Percentage of older adults who are experiencin...           PRCTG   \n",
       "6  Percentage of older adults who are experiencin...           PRCTG   \n",
       "7  Percentage of older adults who are experiencin...           PRCTG   \n",
       "8  Percentage of older adults who report having a...           PRCTG   \n",
       "\n",
       "  Data_Value_Type  Data_Value  ...  StratificationCategory2  \\\n",
       "3      Percentage         9.0  ...           Race/Ethnicity   \n",
       "4      Percentage         5.6  ...                   Gender   \n",
       "6      Percentage        21.5  ...           Race/Ethnicity   \n",
       "7      Percentage        10.0  ...           Race/Ethnicity   \n",
       "8      Percentage        39.9  ...                   Gender   \n",
       "\n",
       "            Stratification2  ClassID TopicID QuestionID LocationID  \\\n",
       "3       Black, non-Hispanic      C05   TMC01        Q03         24   \n",
       "4                      Male      C05   TMC01        Q03         55   \n",
       "6  Native Am/Alaskan Native      C05   TMC01        Q03         40   \n",
       "7       White, non-Hispanic      C05   TMC01        Q03         42   \n",
       "8                    Female      C01   TOC10        Q46         42   \n",
       "\n",
       "  StratificationCategoryID1 StratificationID1 StratificationCategoryID2  \\\n",
       "3                       AGE            65PLUS                      RACE   \n",
       "4                       AGE            65PLUS                    GENDER   \n",
       "6                       AGE       AGE_OVERALL                      RACE   \n",
       "7                       AGE       AGE_OVERALL                      RACE   \n",
       "8                       AGE       AGE_OVERALL                    GENDER   \n",
       "\n",
       "  StratificationID2  \n",
       "3               BLK  \n",
       "4              MALE  \n",
       "6               NAA  \n",
       "7               WHT  \n",
       "8            FEMALE  \n",
       "\n",
       "[5 rows x 25 columns]"
      ]
     },
     "execution_count": 8,
     "metadata": {},
     "output_type": "execute_result"
    }
   ],
   "source": [
    "alzheimers_data_cleaned.head()"
   ]
  },
  {
   "cell_type": "markdown",
   "id": "fac4534a-04e0-4beb-8de4-c191ebc0e29c",
   "metadata": {},
   "source": [
    "<h2>Visualizing the Data</h2>"
   ]
  },
  {
   "cell_type": "code",
   "execution_count": 10,
   "id": "08c1ed30-b0e6-483d-b158-cfe35b8fc101",
   "metadata": {},
   "outputs": [
    {
     "name": "stderr",
     "output_type": "stream",
     "text": [
      "C:\\ProgramData\\anaconda3\\Lib\\site-packages\\seaborn\\_oldcore.py:1119: FutureWarning: use_inf_as_na option is deprecated and will be removed in a future version. Convert inf values to NaN before operating instead.\n",
      "  with pd.option_context('mode.use_inf_as_na', True):\n"
     ]
    },
    {
     "data": {
      "image/png": "[encoded data removed]",
      "text/plain": [
       "<Figure size 1000x600 with 1 Axes>"
      ]
     },
     "metadata": {},
     "output_type": "display_data"
    }
   ],
   "source": [
    "# Distribution of Data Values\n",
    "plt.figure(figsize=(10, 6))\n",
    "sns.histplot(alzheimers_data_cleaned['Data_Value'], kde=True, bins=30, color='skyblue')\n",
    "plt.title('Distribution of Data Values')\n",
    "plt.xlabel('Data Value')\n",
    "plt.ylabel('Frequency')\n",
    "plt.show()"
   ]
  },
  {
   "cell_type": "code",
   "execution_count": 11,
   "id": "0e508b17-ef29-4215-af22-35d3db82880f",
   "metadata": {},
   "outputs": [
    {
     "data": {
      "image/png": "[encoded data removed]",
      "text/plain": [
       "<Figure size 1200x800 with 1 Axes>"
      ]
     },
     "metadata": {},
     "output_type": "display_data"
    }
   ],
   "source": [
    "# Boxplot of Data Values by Year\n",
    "plt.figure(figsize=(12, 8))\n",
    "sns.boxplot(x='YearStart', y='Data_Value', data=alzheimers_data_cleaned, palette='Set3')\n",
    "plt.title('Data Values by Year')\n",
    "plt.xlabel('Year')\n",
    "plt.ylabel('Data Value')\n",
    "plt.xticks(rotation=45)\n",
    "plt.show()"
   ]
  },
  {
   "cell_type": "code",
   "execution_count": 12,
   "id": "3894d86a-541c-4e35-b3ab-85cf7777d48e",
   "metadata": {},
   "outputs": [],
   "source": [
    "# Feature Selection and Preprocessing\n",
    "features = ['YearStart', 'LocationID', 'ClassID', 'TopicID', 'QuestionID']\n",
    "\n",
    "# Ensure all features are present\n",
    "for feature in features:\n",
    "    if feature not in alzheimers_data_cleaned.columns:\n",
    "        raise ValueError(f\"Feature {feature} not found in the dataset.\")\n",
    "\n",
    "X = alzheimers_data_cleaned[features]"
   ]
  },
  {
   "cell_type": "code",
   "execution_count": 13,
   "id": "99aeab2a-6d98-4a6f-b794-bb18159e594e",
   "metadata": {},
   "outputs": [],
   "source": [
    "# Convert categorical features to numerical using one-hot encoding\n",
    "X = pd.get_dummies(X, columns=['LocationID', 'ClassID', 'TopicID', 'QuestionID'], drop_first=True)\n",
    "\n",
    "# Check for NaN values in the feature set\n",
    "if X.isnull().values.any():\n",
    "    raise ValueError(\"Feature set contains NaN values. Consider imputing or dropping these values.\")"
   ]
  },
  {
   "cell_type": "code",
   "execution_count": 14,
   "id": "1183878f-80f0-40fa-957e-216ba0a7663d",
   "metadata": {},
   "outputs": [],
   "source": [
    "# Target variable: Binary classification based on median Data_Value\n",
    "y = alzheimers_data_cleaned['Data_Value'].apply(lambda x: 1 if x > np.median(alzheimers_data_cleaned['Data_Value']) else 0)\n",
    "\n",
    "# Split the data into training and testing sets\n",
    "X_train, X_test, y_train, y_test = train_test_split(X, y, test_size=0.2, random_state=42, stratify=y)"
   ]
  },
  {
   "cell_type": "markdown",
   "id": "3ce5b23f-cfbd-4ed9-91c9-9e7f23dc2ac1",
   "metadata": {},
   "source": [
    "<h2>Model Training</h2>"
   ]
  },
  {
   "cell_type": "code",
   "execution_count": 16,
   "id": "19fe898e-0732-49dc-b83f-d1ad2728e2d0",
   "metadata": {},
   "outputs": [],
   "source": [
    "# Initialize models\n",
    "models = {\n",
    "    'RandomForest': RandomForestClassifier(random_state=42),\n",
    "    'LogisticRegression': LogisticRegression(max_iter=1000, random_state=42)\n",
    "}"
   ]
  },
  {
   "cell_type": "code",
   "execution_count": 17,
   "id": "4411e2cf-8aaa-45db-b0aa-bd38f2ff0ffb",
   "metadata": {},
   "outputs": [
    {
     "name": "stdout",
     "output_type": "stream",
     "text": [
      "RandomForest Accuracy: 0.9019\n",
      "RandomForest Classification Report:\n",
      "              precision    recall  f1-score   support\n",
      "\n",
      "           0       0.91      0.90      0.90     19336\n",
      "           1       0.90      0.91      0.90     19226\n",
      "\n",
      "    accuracy                           0.90     38562\n",
      "   macro avg       0.90      0.90      0.90     38562\n",
      "weighted avg       0.90      0.90      0.90     38562\n",
      "\n",
      "LogisticRegression Accuracy: 0.8840\n",
      "LogisticRegression Classification Report:\n",
      "              precision    recall  f1-score   support\n",
      "\n",
      "           0       0.88      0.89      0.88     19336\n",
      "           1       0.88      0.88      0.88     19226\n",
      "\n",
      "    accuracy                           0.88     38562\n",
      "   macro avg       0.88      0.88      0.88     38562\n",
      "weighted avg       0.88      0.88      0.88     38562\n",
      "\n"
     ]
    },
    {
     "name": "stderr",
     "output_type": "stream",
     "text": [
      "C:\\Users\\1234\\AppData\\Roaming\\Python\\Python311\\site-packages\\sklearn\\linear_model\\_logistic.py:469: ConvergenceWarning: lbfgs failed to converge (status=1):\n",
      "STOP: TOTAL NO. of ITERATIONS REACHED LIMIT.\n",
      "\n",
      "Increase the number of iterations (max_iter) or scale the data as shown in:\n",
      "    https://scikit-learn.org/stable/modules/preprocessing.html\n",
      "Please also refer to the documentation for alternative solver options:\n",
      "    https://scikit-learn.org/stable/modules/linear_model.html#logistic-regression\n",
      "  n_iter_i = _check_optimize_result(\n"
     ]
    }
   ],
   "source": [
    "# Model Training\n",
    "model_performance = {}\n",
    "for model_name, model in models.items():\n",
    "    model.fit(X_train, y_train)\n",
    "    y_pred = model.predict(X_test)\n",
    "    acc = accuracy_score(y_test, y_pred)\n",
    "    report = classification_report(y_test, y_pred)\n",
    "    model_performance[model_name] = {\n",
    "        'model': model,\n",
    "        'accuracy': acc,\n",
    "        'report': report\n",
    "    }\n",
    "    print(f\"{model_name} Accuracy: {acc:.4f}\")\n",
    "    print(f\"{model_name} Classification Report:\\n{report}\")"
   ]
  },
  {
   "cell_type": "code",
   "execution_count": 18,
   "id": "f12d40c1-3dcb-46eb-aef6-c6fb3d622776",
   "metadata": {},
   "outputs": [
    {
     "name": "stdout",
     "output_type": "stream",
     "text": [
      "\n",
      "Best model: RandomForest with accuracy 0.9019\n"
     ]
    }
   ],
   "source": [
    "# Selecting the Best Model\n",
    "best_model_name = max(model_performance, key=lambda x: model_performance[x]['accuracy'])\n",
    "best_model = model_performance[best_model_name]['model']\n",
    "best_accuracy = model_performance[best_model_name]['accuracy']\n",
    "print(f\"\\nBest model: {best_model_name} with accuracy {best_accuracy:.4f}\")"
   ]
  },
  {
   "cell_type": "code",
   "execution_count": 19,
   "id": "831955e4-b601-489d-a6fb-8643e85dabad",
   "metadata": {},
   "outputs": [
    {
     "name": "stdout",
     "output_type": "stream",
     "text": [
      "Best model saved to best_model.pkl\n"
     ]
    }
   ],
   "source": [
    "# Save the Best Model\n",
    "model_filename = 'best_model.pkl'\n",
    "with open(model_filename, 'wb') as file:\n",
    "    pickle.dump(best_model, file)\n",
    "print(f\"Best model saved to {model_filename}\")"
   ]
  },
  {
   "cell_type": "code",
   "execution_count": 20,
   "id": "c7ffe4e2-76b4-4f20-9c91-a2c36ccece48",
   "metadata": {},
   "outputs": [
    {
     "data": {
      "image/png": "[encoded data removed]",
      "text/plain": [
       "<Figure size 600x400 with 2 Axes>"
      ]
     },
     "metadata": {},
     "output_type": "display_data"
    }
   ],
   "source": [
    "# Save Confusion Matrix\n",
    "conf_matrix = confusion_matrix(y_test, best_model.predict(X_test))\n",
    "plt.figure(figsize=(6, 4))\n",
    "sns.heatmap(conf_matrix, annot=True, fmt='d', cmap='Blues', xticklabels=['<= Median', '> Median'], yticklabels=['<= Median', '> Median'])\n",
    "plt.xlabel('Predicted')\n",
    "plt.ylabel('Actual')\n",
    "plt.title(f'Confusion Matrix for {best_model_name}')\n",
    "plt.show()"
   ]
  },
  {
   "cell_type": "code",
   "execution_count": null,
   "id": "19e8d268-aea1-423e-8e93-3ffc979032b4",
   "metadata": {},
   "outputs": [],
   "source": []
  }
 ],
 "metadata": {
  "kernelspec": {
   "display_name": "Python 3 (ipykernel)",
   "language": "python",
   "name": "python3"
  },
  "language_info": {
   "codemirror_mode": {
    "name": "ipython",
    "version": 3
   },
   "file_extension": ".py",
   "mimetype": "text/x-python",
   "name": "python",
   "nbconvert_exporter": "python",
   "pygments_lexer": "ipython3",
   "version": "3.11.7"
  }
 },
 "nbformat": 4,
 "nbformat_minor": 5
}
